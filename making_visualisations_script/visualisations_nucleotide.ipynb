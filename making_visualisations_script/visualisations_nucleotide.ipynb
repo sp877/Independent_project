{
 "cells": [
  {
   "cell_type": "markdown",
   "id": "f3bccb81",
   "metadata": {},
   "source": [
    "# Frequency graphs"
   ]
  },
  {
   "cell_type": "code",
   "execution_count": null,
   "id": "ed5fb069",
   "metadata": {},
   "outputs": [],
   "source": [
    "import pandas as pd\n",
    "import matplotlib.pyplot as plt\n",
    "\n",
    "# Set paths for matrices from TSV files\n",
    "# First column will be index of column which will be used to identify each row\n",
    "plasmid_matrix = pd.read_csv('path_to_plasmid_frequency_matrix', sep='\\t', index_col=0)\n",
    "mutating_cells_matrix = pd.read_csv('path_to_mutating_frequency_matirx', sep='\\t', index_col=0)\n",
    "treated_cells_matrix = pd.read_csv('path_to_drug_treated_frequency_matrix', sep='\\t', index_col=0)\n",
    "\n",
    "# Extract the numbers from the index column\n",
    "# These numbers are stored in a new column called position \n",
    "plasmid_matrix['Position'] = plasmid_matrix.index.str.extract(r'(\\d+)', expand=False).astype(int)\n",
    "mutating_cells_matrix['Position'] = mutating_cells_matrix.index.str.extract(r'(\\d+)', expand=False).astype(int)\n",
    "treated_cells_matrix['Position'] = treated_cells_matrix.index.str.extract(r'(\\d+)', expand=False).astype(int)\n",
    "\n",
    "# Sort by position column\n",
    "plasmid_matrix.sort_values('Position', inplace=True)\n",
    "mutating_cells_matrix.sort_values('Position', inplace=True)\n",
    "treated_cells_matrix.sort_values('Position', inplace=True)\n",
    "\n",
    "# Function to plot frequency data with logarithmic scale\n",
    "def plot_frequencies_log_with_black_fill(matrix, title):\n",
    "    plt.figure(figsize=(12, 6))\n",
    "    # Exclude the position column\n",
    "    for sample in matrix.columns[:-1]:  \n",
    "        plt.plot(matrix['Position'], matrix[sample], marker='None', linestyle='-', color='black', linewidth=1)\n",
    "        # The plot is filled black\n",
    "        plt.fill_between(matrix['Position'], matrix[sample], color='black', alpha=1.0)  \n",
    "\n",
    "    plt.xlabel('Position')\n",
    "    plt.ylabel('Frequency')\n",
    "    # y-axis set to logarithmic scale\n",
    "    plt.yscale('log')  \n",
    "    plt.ylim(1e-6, 0.1)  \n",
    "    plt.title(title)\n",
    "    plt.show()\n",
    "\n",
    "# Plotting the frequency graphs\n",
    "plot_frequencies_log_with_black_fill(plasmid_matrix, 'Logarithmic Frequencies of Mutations in Plasmid Samples')\n",
    "plot_frequencies_log_with_black_fill(mutating_cells_matrix, 'Logarithmic Frequencies of Mutations in Mutating Cells Samples')\n",
    "plot_frequencies_log_with_black_fill(treated_cells_matrix, 'Logarithmic Frequencies of Mutations in Treated Cells Samples')\n"
   ]
  }
 ],
 "metadata": {
  "kernelspec": {
   "display_name": "Python 3 (ipykernel)",
   "language": "python",
   "name": "python3"
  },
  "language_info": {
   "codemirror_mode": {
    "name": "ipython",
    "version": 3
   },
   "file_extension": ".py",
   "mimetype": "text/x-python",
   "name": "python",
   "nbconvert_exporter": "python",
   "pygments_lexer": "ipython3",
   "version": "3.11.4"
  }
 },
 "nbformat": 4,
 "nbformat_minor": 5
}
